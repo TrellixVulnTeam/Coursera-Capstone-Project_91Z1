{
  "nbformat": 4,
  "nbformat_minor": 0,
  "metadata": {
    "colab": {
      "name": "Capstone_Ntbk.ipynb",
      "provenance": [],
      "authorship_tag": "ABX9TyMcVk0XlVyF/ZHExkj24Sbr"
    },
    "kernelspec": {
      "name": "python3",
      "display_name": "Python 3"
    }
  },
  "cells": [
    {
      "cell_type": "code",
      "metadata": {
        "id": "0RGTPyks2Z9g"
      },
      "source": [
        "#This Notebook will be used in Completing the Capstone Project"
      ],
      "execution_count": 1,
      "outputs": []
    },
    {
      "cell_type": "code",
      "metadata": {
        "id": "lv7OVMrJ2pcx"
      },
      "source": [
        "import pandas as pd\r\n",
        "import numpy as np"
      ],
      "execution_count": 2,
      "outputs": []
    },
    {
      "cell_type": "code",
      "metadata": {
        "id": "XvpBxQAg2uAY"
      },
      "source": [
        ""
      ],
      "execution_count": null,
      "outputs": []
    }
  ]
}